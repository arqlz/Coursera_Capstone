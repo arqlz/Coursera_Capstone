{
 "cells": [
  {
   "cell_type": "markdown",
   "metadata": {},
   "source": [
    "#### Project Capstone"
   ]
  },
  {
   "cell_type": "code",
   "execution_count": 1,
   "metadata": {},
   "outputs": [],
   "source": [
    "import pandas as pd\n",
    "import numpy as np"
   ]
  },
  {
   "cell_type": "code",
   "execution_count": 2,
   "metadata": {},
   "outputs": [
    {
     "name": "stdout",
     "output_type": "stream",
     "text": [
      "Hello Capstone Project Course!\n"
     ]
    }
   ],
   "source": [
    "print(\"Hello Capstone Project Course!\")"
   ]
  },
  {
   "cell_type": "code",
   "execution_count": 1,
   "metadata": {},
   "outputs": [
    {
     "data": {
      "text/plain": [
       "10"
      ]
     },
     "execution_count": 1,
     "metadata": {},
     "output_type": "execute_result"
    }
   ],
   "source": []
  },
  {
   "cell_type": "code",
   "execution_count": 2,
   "metadata": {},
   "outputs": [
    {
     "name": "stdout",
     "output_type": "stream",
     "text": [
      "Collecting foursquare\n",
      "  Downloading foursquare-1%212020.1.30-py3-none-any.whl (20 kB)\n",
      "Requirement already satisfied: six in c:\\users\\arqle\\anaconda3\\lib\\site-packages (from foursquare) (1.15.0)\n",
      "Requirement already satisfied: requests>=2.1 in c:\\users\\arqle\\anaconda3\\lib\\site-packages (from foursquare) (2.24.0)\n",
      "Requirement already satisfied: urllib3!=1.25.0,!=1.25.1,<1.26,>=1.21.1 in c:\\users\\arqle\\anaconda3\\lib\\site-packages (from requests>=2.1->foursquare) (1.25.9)\n",
      "Requirement already satisfied: idna<3,>=2.5 in c:\\users\\arqle\\anaconda3\\lib\\site-packages (from requests>=2.1->foursquare) (2.10)\n",
      "Requirement already satisfied: chardet<4,>=3.0.2 in c:\\users\\arqle\\anaconda3\\lib\\site-packages (from requests>=2.1->foursquare) (3.0.4)\n",
      "Requirement already satisfied: certifi>=2017.4.17 in c:\\users\\arqle\\anaconda3\\lib\\site-packages (from requests>=2.1->foursquare) (2020.6.20)\n",
      "Installing collected packages: foursquare\n",
      "Successfully installed foursquare-1!2020.1.30\n",
      "Note: you may need to restart the kernel to use updated packages.\n"
     ]
    }
   ],
   "source": []
  },
  {
   "cell_type": "code",
   "execution_count": null,
   "metadata": {},
   "outputs": [],
   "source": []
  }
 ],
 "metadata": {
  "kernelspec": {
   "display_name": "Python 3",
   "language": "python",
   "name": "python3"
  },
  "language_info": {
   "codemirror_mode": {
    "name": "ipython",
    "version": 3
   },
   "file_extension": ".py",
   "mimetype": "text/x-python",
   "name": "python",
   "nbconvert_exporter": "python",
   "pygments_lexer": "ipython3",
   "version": "3.8.3"
  }
 },
 "nbformat": 4,
 "nbformat_minor": 4
}
