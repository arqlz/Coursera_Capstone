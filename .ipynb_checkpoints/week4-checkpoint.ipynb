{
 "cells": [
  {
   "cell_type": "markdown",
   "metadata": {},
   "source": [
    "# IBM-COURSERA DATA SCIENCE CAPSTONE \n",
    "### WEEK 4\n",
    "Author: Jesus Leonardo Zorrilla\n",
    "\n",
    "Title: Santo Domingo neighborhoods analysis for new business opening\n",
    "\n",
    "Date: 16/11/2020\n"
   ]
  },
  {
   "cell_type": "markdown",
   "metadata": {},
   "source": [
    "##  Introduction/Business Problem "
   ]
  },
  {
   "cell_type": "markdown",
   "metadata": {},
   "source": [
    "The city is a complex set of systems working in a way that allow human complex interaction and extense range of activities. Those systems intersect on geographical space in a way that can be recognized, that we can identify as a common/similar to, as a known piece/organ, that we can describe and study.\n",
    "\n",
    "Those patters, the blocks that form a city, are compounded by visible and invisible features that are by themselves products of the evolving of the initial and sequent set of rules, and will contribute to the next stage and apparition of new features.\n",
    "\n",
    "The business that exists in those areas are a byproduct and a door to the info natively encrypted in the city space, so as this study goes and by using some data processing and modeling tools like pandas and sklearn we are going to try uncover sufficient information to create a recommendation model that understanding those patters Identify places that can be center of new store installations.\n",
    "\n",
    "As location is one of the key points to be taken in consideration for new Businesses; creating and developing tools that can help us take a better understanding of the city, market and opportunities to take important decisions is a must.\n",
    "\n",
    "We are going to concentrate on Pizza Places, on the cities of **Santo Domingo, Distrito Nacional** in the Dominican Republic, as well as the city of **Santiago de los Caballeros** also on the DR. As a requirement for this study, we are going to use **Foursquare API** to get the venues places, as well as some public data to get the neighborhoods lists and coordinates.\n",
    "\n"
   ]
  }
 ],
 "metadata": {
  "kernelspec": {
   "display_name": "Python 3",
   "language": "python",
   "name": "python3"
  },
  "language_info": {
   "codemirror_mode": {
    "name": "ipython",
    "version": 3
   },
   "file_extension": ".py",
   "mimetype": "text/x-python",
   "name": "python",
   "nbconvert_exporter": "python",
   "pygments_lexer": "ipython3",
   "version": "3.8.3"
  }
 },
 "nbformat": 4,
 "nbformat_minor": 4
}
