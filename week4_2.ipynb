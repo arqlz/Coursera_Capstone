{
 "cells": [
  {
   "cell_type": "markdown",
   "metadata": {},
   "source": [
    "# IBM-COURSERA DATA SCIENCE CAPSTONE \n",
    "### WEEK 4\n",
    "Author: Jesus Leonardo Zorrilla\n",
    "\n",
    "Title: Santo Domingo neighborhoods analysis for new business opening\n",
    "\n",
    "Date: 16/11/2020"
   ]
  },
  {
   "cell_type": "markdown",
   "metadata": {},
   "source": [
    "## Description of the Data"
   ]
  },
  {
   "cell_type": "markdown",
   "metadata": {},
   "source": [
    "A list of Santo Domingo Neighborhoods was extracted on a csv, including its zip codes, but as I found, the coordinates (Latitude, Longitude) that the source provide didn’t represent the center location for some of the areas we were going to use, so there was an initial batch of query’s to **Google Places API**, that returned the neighborhood coordinates adjusted. Those are present on a second Santo Domingo neighborhoods csv.\n",
    "\n",
    "Also we got from the **Plan de Ordenamiento Territorial (2018)** of the local government of Santiago City a list of their principal neighborhoods, also by using Google Places API we got the coordinates of the neighborhood geometric center and saved to a CSV dataframe.\n",
    "\n",
    "**Foursquare API** was used to get a list of venues for all the neighborhoods for both cities. Those venues list contain data like the name of the venue, the category, latitude and longitude. \n",
    "The data compiled will be used to create a profile for all the neighborhoods, and by examining the venues category and density composition we will train Kmean classificator to infer similarities between zones. \n",
    "\n",
    "Finally, we will train some Classifications Models, to infer where does a Pizza Place exist, and where it should be installed.\n"
   ]
  }
 ],
 "metadata": {
  "kernelspec": {
   "display_name": "Python 3",
   "language": "python",
   "name": "python3"
  },
  "language_info": {
   "codemirror_mode": {
    "name": "ipython",
    "version": 3
   },
   "file_extension": ".py",
   "mimetype": "text/x-python",
   "name": "python",
   "nbconvert_exporter": "python",
   "pygments_lexer": "ipython3",
   "version": "3.8.3"
  }
 },
 "nbformat": 4,
 "nbformat_minor": 4
}
